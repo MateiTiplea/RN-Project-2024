{
 "cells": [
  {
   "cell_type": "code",
   "execution_count": 1,
   "id": "fd2ad349",
   "metadata": {
    "_cell_guid": "b1076dfc-b9ad-4769-8c92-a6c4dae69d19",
    "_uuid": "8f2839f25d086af736a60e9eeb907d3b93b6e0e5",
    "execution": {
     "iopub.execute_input": "2024-11-20T16:24:55.549566Z",
     "iopub.status.busy": "2024-11-20T16:24:55.548517Z",
     "iopub.status.idle": "2024-11-20T16:25:03.629777Z",
     "shell.execute_reply": "2024-11-20T16:25:03.628809Z"
    },
    "papermill": {
     "duration": 8.089237,
     "end_time": "2024-11-20T16:25:03.632252",
     "exception": false,
     "start_time": "2024-11-20T16:24:55.543015",
     "status": "completed"
    },
    "tags": []
   },
   "outputs": [
    {
     "name": "stderr",
     "output_type": "stream",
     "text": [
      "c:\\Users\\Alex\\AppData\\Local\\Programs\\Python\\Python312\\Lib\\site-packages\\tqdm\\auto.py:21: TqdmWarning: IProgress not found. Please update jupyter and ipywidgets. See https://ipywidgets.readthedocs.io/en/stable/user_install.html\n",
      "  from .autonotebook import tqdm as notebook_tqdm\n"
     ]
    }
   ],
   "source": [
    "import torch\n",
    "from torch import nn, Tensor\n",
    "from torch.utils.data import Dataset, DataLoader\n",
    "from torchvision.datasets import CIFAR100\n",
    "from typing import Optional, Callable\n",
    "import os\n",
    "import timm\n",
    "import numpy as np\n",
    "import pandas as pd\n",
    "from torchvision.transforms import v2\n",
    "from torch.backends import cudnn\n",
    "from torch import GradScaler\n",
    "from torch import optim\n",
    "from tqdm import tqdm"
   ]
  },
  {
   "cell_type": "code",
   "execution_count": 2,
   "id": "7c413389",
   "metadata": {},
   "outputs": [
    {
     "data": {
      "text/plain": [
       "device(type='cuda')"
      ]
     },
     "execution_count": 2,
     "metadata": {},
     "output_type": "execute_result"
    }
   ],
   "source": [
    "def get_default_device():\n",
    "    if torch.cuda.is_available():\n",
    "        return torch.device('cuda')\n",
    "    if torch.backends.mps.is_available():\n",
    "        return torch.device('mps')\n",
    "    return torch.device('cpu')\n",
    "\n",
    "get_default_device()"
   ]
  },
  {
   "cell_type": "code",
   "execution_count": 3,
   "id": "1701d7e7",
   "metadata": {
    "execution": {
     "iopub.execute_input": "2024-11-20T16:25:03.641328Z",
     "iopub.status.busy": "2024-11-20T16:25:03.640270Z",
     "iopub.status.idle": "2024-11-20T16:25:03.645292Z",
     "shell.execute_reply": "2024-11-20T16:25:03.644462Z"
    },
    "papermill": {
     "duration": 0.011074,
     "end_time": "2024-11-20T16:25:03.647109",
     "exception": false,
     "start_time": "2024-11-20T16:25:03.636035",
     "status": "completed"
    },
    "tags": []
   },
   "outputs": [],
   "source": [
    "device = torch.device('cuda')\n",
    "cudnn.benchmark = True\n",
    "pin_memory = True\n",
    "enable_half = True  # Disable for CPU, it is slower!\n",
    "scaler = GradScaler(device, enabled=enable_half)"
   ]
  },
  {
   "cell_type": "code",
   "execution_count": 4,
   "id": "4779a1f1",
   "metadata": {
    "execution": {
     "iopub.execute_input": "2024-11-20T16:25:03.654361Z",
     "iopub.status.busy": "2024-11-20T16:25:03.653725Z",
     "iopub.status.idle": "2024-11-20T16:25:03.659060Z",
     "shell.execute_reply": "2024-11-20T16:25:03.658226Z"
    },
    "papermill": {
     "duration": 0.010792,
     "end_time": "2024-11-20T16:25:03.660875",
     "exception": false,
     "start_time": "2024-11-20T16:25:03.650083",
     "status": "completed"
    },
    "tags": []
   },
   "outputs": [],
   "source": [
    "class SimpleCachedDataset(Dataset):\n",
    "    def __init__(self, dataset: Dataset, runtime_transforms: Optional[v2.Transform], cache: bool):\n",
    "        if cache:\n",
    "            dataset = tuple([x for x in dataset])\n",
    "        self.dataset = dataset\n",
    "        self.runtime_transforms = runtime_transforms\n",
    "\n",
    "    def __len__(self):\n",
    "        return len(self.dataset)\n",
    "\n",
    "    def __getitem__(self, i):\n",
    "        image, label = self.dataset[i]\n",
    "        if self.runtime_transforms is None:\n",
    "            return image, label\n",
    "        return self.runtime_transforms(image), label"
   ]
  },
  {
   "cell_type": "code",
   "execution_count": 5,
   "id": "54a86cac",
   "metadata": {
    "execution": {
     "iopub.execute_input": "2024-11-20T16:25:03.668183Z",
     "iopub.status.busy": "2024-11-20T16:25:03.667540Z",
     "iopub.status.idle": "2024-11-20T16:25:03.675250Z",
     "shell.execute_reply": "2024-11-20T16:25:03.674365Z"
    },
    "papermill": {
     "duration": 0.013464,
     "end_time": "2024-11-20T16:25:03.677223",
     "exception": false,
     "start_time": "2024-11-20T16:25:03.663759",
     "status": "completed"
    },
    "tags": []
   },
   "outputs": [],
   "source": [
    "class CIFAR100_noisy_fine(Dataset):\n",
    "    \"\"\"\n",
    "    See https://github.com/UCSC-REAL/cifar-10-100n, https://www.noisylabels.com/ and `Learning with Noisy Labels\n",
    "    Revisited: A Study Using Real-World Human Annotations`.\n",
    "    \"\"\"\n",
    "\n",
    "    def __init__(\n",
    "        self, root: str, train: bool, transform: Optional[Callable], download: bool\n",
    "    ):\n",
    "        cifar100 = CIFAR100(\n",
    "            root=root, train=train, transform=transform, download=download\n",
    "        )\n",
    "        data, targets = tuple(zip(*cifar100))\n",
    "\n",
    "        if train:\n",
    "            noisy_label_file = os.path.join(root, \"CIFAR-100-noisy.npz\")\n",
    "            if not os.path.isfile(noisy_label_file):\n",
    "                raise FileNotFoundError(\n",
    "                    f\"{type(self).__name__} need {noisy_label_file} to be used!\"\n",
    "                )\n",
    "\n",
    "            noise_file = np.load(noisy_label_file)\n",
    "            if not np.array_equal(noise_file[\"clean_label\"], targets):\n",
    "                raise RuntimeError(\"Clean labels do not match!\")\n",
    "            \n",
    "            targets = noise_file[\"noisy_label\"]\n",
    "\n",
    "        self.data = data\n",
    "        self.targets = targets\n",
    "\n",
    "    def __len__(self):\n",
    "        return len(self.targets)\n",
    "\n",
    "    def __getitem__(self, i: int):\n",
    "        return self.data[i], self.targets[i]"
   ]
  },
  {
   "cell_type": "code",
   "execution_count": 6,
   "id": "e234b2ac",
   "metadata": {
    "execution": {
     "iopub.execute_input": "2024-11-20T16:25:03.684242Z",
     "iopub.status.busy": "2024-11-20T16:25:03.683929Z",
     "iopub.status.idle": "2024-11-20T16:25:27.837725Z",
     "shell.execute_reply": "2024-11-20T16:25:27.836929Z"
    },
    "papermill": {
     "duration": 24.159812,
     "end_time": "2024-11-20T16:25:27.840013",
     "exception": false,
     "start_time": "2024-11-20T16:25:03.680201",
     "status": "completed"
    },
    "tags": []
   },
   "outputs": [],
   "source": [
    "mean=(0.507, 0.4865, 0.4409)\n",
    "sd=(0.2673, 0.2564, 0.2761)\n",
    "\n",
    "# mean = (0.5071, 0.4867, 0.4408)\n",
    "# sd = (0.2675, 0.2565, 0.2761)\n",
    "\n",
    "# mean = (0.4914, 0.4822, 0.4465) \n",
    "# sd = (0.2023, 0.1994, 0.2010)\n",
    "\n",
    "basic_transforms = v2.Compose([\n",
    "    v2.ToImage(),\n",
    "    v2.ToDtype(torch.float32, scale=True),\n",
    "])\n",
    "\n",
    "test_transforms = v2.Compose([\n",
    "    basic_transforms,\n",
    "    v2.Normalize(mean, sd, inplace=True)\n",
    "])\n",
    "\n",
    "runtime_transforms = v2.Compose([\n",
    "    v2.RandomCrop(size=32, padding=4),\n",
    "    v2.RandomHorizontalFlip(0.5),\n",
    "    v2.Normalize(mean, sd, inplace=True),\n",
    "])\n",
    "\n",
    "train_set = CIFAR100_noisy_fine('./fii-atnn-2024-project-noisy-cifar-100/fii-atnn-2024-project-noisy-cifar-100', download=False, train=True, transform=basic_transforms)\n",
    "test_set = CIFAR100_noisy_fine('./fii-atnn-2024-project-noisy-cifar-100/fii-atnn-2024-project-noisy-cifar-100', download=False, train=False, transform=test_transforms)\n",
    "train_set = SimpleCachedDataset(train_set, runtime_transforms, True)\n",
    "test_set = SimpleCachedDataset(test_set, None, True)\n",
    "\n",
    "train_loader = DataLoader(train_set, batch_size=50, shuffle=True, pin_memory=pin_memory)\n",
    "test_loader = DataLoader(test_set, batch_size=500, pin_memory=pin_memory)\n"
   ]
  },
  {
   "cell_type": "code",
   "execution_count": 7,
   "id": "1a4c7758",
   "metadata": {
    "execution": {
     "iopub.execute_input": "2024-11-20T16:25:27.847313Z",
     "iopub.status.busy": "2024-11-20T16:25:27.846963Z",
     "iopub.status.idle": "2024-11-20T16:25:29.925533Z",
     "shell.execute_reply": "2024-11-20T16:25:29.924452Z"
    },
    "papermill": {
     "duration": 2.085245,
     "end_time": "2024-11-20T16:25:29.928290",
     "exception": false,
     "start_time": "2024-11-20T16:25:27.843045",
     "status": "completed"
    },
    "tags": []
   },
   "outputs": [],
   "source": [
    "model = timm.create_model(\"resnext50_32x4d\", pretrained=True)\n",
    "model.fc = nn.Linear(2048, 100)\n",
    "model = model.to(device)\n",
    "# model = torch.jit.script(model)  # does not work for this model\n",
    "criterion = nn.CrossEntropyLoss(label_smoothing=0.1)\n",
    "optimizer = optim.SGD(model.parameters(), lr=0.001, momentum=0.9, weight_decay=5e-4)\n"
   ]
  },
  {
   "cell_type": "code",
   "execution_count": 8,
   "id": "76317b06",
   "metadata": {
    "execution": {
     "iopub.execute_input": "2024-11-20T16:25:29.936408Z",
     "iopub.status.busy": "2024-11-20T16:25:29.936022Z",
     "iopub.status.idle": "2024-11-20T16:25:29.942735Z",
     "shell.execute_reply": "2024-11-20T16:25:29.941752Z"
    },
    "papermill": {
     "duration": 0.012902,
     "end_time": "2024-11-20T16:25:29.944677",
     "exception": false,
     "start_time": "2024-11-20T16:25:29.931775",
     "status": "completed"
    },
    "tags": []
   },
   "outputs": [],
   "source": [
    "def train():\n",
    "    model.train()\n",
    "    correct = 0\n",
    "    total = 0\n",
    "    \n",
    "    for inputs, targets in train_loader:\n",
    "        inputs, targets = inputs.to(device, non_blocking=True), targets.to(device, non_blocking=True)\n",
    "        with torch.autocast(device.type, enabled=enable_half):\n",
    "            outputs = model(inputs)\n",
    "            loss = criterion(outputs, targets)\n",
    "        scaler.scale(loss).backward()\n",
    "        scaler.step(optimizer)\n",
    "        scaler.update()\n",
    "        optimizer.zero_grad()\n",
    "\n",
    "        predicted = outputs.argmax(1)\n",
    "        total += targets.size(0)\n",
    "        correct += predicted.eq(targets).sum().item()\n",
    "    \n",
    "    return 100.0 * correct / total"
   ]
  },
  {
   "cell_type": "code",
   "execution_count": 9,
   "id": "df9c48e1",
   "metadata": {
    "execution": {
     "iopub.execute_input": "2024-11-20T16:25:29.952558Z",
     "iopub.status.busy": "2024-11-20T16:25:29.952250Z",
     "iopub.status.idle": "2024-11-20T16:25:29.958485Z",
     "shell.execute_reply": "2024-11-20T16:25:29.957452Z"
    },
    "papermill": {
     "duration": 0.012332,
     "end_time": "2024-11-20T16:25:29.960374",
     "exception": false,
     "start_time": "2024-11-20T16:25:29.948042",
     "status": "completed"
    },
    "tags": []
   },
   "outputs": [],
   "source": [
    "@torch.inference_mode()\n",
    "def val():\n",
    "    model.eval()\n",
    "    correct = 0\n",
    "    total = 0\n",
    "\n",
    "    for inputs, targets in test_loader:\n",
    "        inputs, targets = inputs.to(device, non_blocking=True), targets.to(device, non_blocking=True)\n",
    "        with torch.autocast(device.type, enabled=enable_half):\n",
    "            outputs = model(inputs)\n",
    "\n",
    "        predicted = outputs.argmax(1)\n",
    "        total += targets.size(0)\n",
    "        correct += predicted.eq(targets).sum().item()\n",
    "    \n",
    "    return 100.0 * correct / total"
   ]
  },
  {
   "cell_type": "code",
   "execution_count": 10,
   "id": "6b229b40",
   "metadata": {
    "execution": {
     "iopub.execute_input": "2024-11-20T16:25:29.969252Z",
     "iopub.status.busy": "2024-11-20T16:25:29.968597Z",
     "iopub.status.idle": "2024-11-20T16:25:29.974311Z",
     "shell.execute_reply": "2024-11-20T16:25:29.973356Z"
    },
    "papermill": {
     "duration": 0.012671,
     "end_time": "2024-11-20T16:25:29.976240",
     "exception": false,
     "start_time": "2024-11-20T16:25:29.963569",
     "status": "completed"
    },
    "tags": []
   },
   "outputs": [],
   "source": [
    "@torch.inference_mode()\n",
    "def inference():\n",
    "    model.eval()\n",
    "    \n",
    "    labels = []\n",
    "    \n",
    "    for inputs, _ in test_loader:\n",
    "        inputs = inputs.to(device, non_blocking=True)\n",
    "        with torch.autocast(device.type, enabled=enable_half):\n",
    "            outputs = model(inputs)\n",
    "\n",
    "        predicted = outputs.argmax(1).tolist()\n",
    "        labels.extend(predicted)\n",
    "    \n",
    "    return labels"
   ]
  },
  {
   "cell_type": "code",
   "execution_count": 15,
   "id": "559a4bca",
   "metadata": {
    "execution": {
     "iopub.execute_input": "2024-11-20T16:25:29.983998Z",
     "iopub.status.busy": "2024-11-20T16:25:29.983332Z",
     "iopub.status.idle": "2024-11-20T16:27:39.791370Z",
     "shell.execute_reply": "2024-11-20T16:27:39.790299Z"
    },
    "papermill": {
     "duration": 129.815155,
     "end_time": "2024-11-20T16:27:39.794562",
     "exception": false,
     "start_time": "2024-11-20T16:25:29.979407",
     "status": "completed"
    },
    "tags": []
   },
   "outputs": [
    {
     "name": "stderr",
     "output_type": "stream",
     "text": [
      "Train: 40.03, Val: 35.33, Best: 35.33: 100%|██████████| 30/30 [07:25<00:00, 14.85s/it]\n"
     ]
    }
   ],
   "source": [
    "best = 0.0\n",
    "epochs = list(range(30))\n",
    "with tqdm(epochs) as tbar:\n",
    "    for epoch in tbar:\n",
    "        train_acc = train()\n",
    "        val_acc = val()\n",
    "        if val_acc > best:\n",
    "            best = val_acc\n",
    "        tbar.set_description(f\"Train: {train_acc:.2f}, Val: {val_acc:.2f}, Best: {best:.2f}\")"
   ]
  },
  {
   "cell_type": "code",
   "execution_count": 16,
   "id": "f8410eed",
   "metadata": {
    "execution": {
     "iopub.execute_input": "2024-11-20T16:27:39.805657Z",
     "iopub.status.busy": "2024-11-20T16:27:39.804716Z",
     "iopub.status.idle": "2024-11-20T16:27:40.143288Z",
     "shell.execute_reply": "2024-11-20T16:27:40.142425Z"
    },
    "papermill": {
     "duration": 0.346858,
     "end_time": "2024-11-20T16:27:40.145856",
     "exception": false,
     "start_time": "2024-11-20T16:27:39.798998",
     "status": "completed"
    },
    "tags": []
   },
   "outputs": [],
   "source": [
    "data = {\n",
    "    \"ID\": [],\n",
    "    \"target\": []\n",
    "}\n",
    "\n",
    "\n",
    "for i, label in enumerate(inference()):\n",
    "    data[\"ID\"].append(i)\n",
    "    data[\"target\"].append(label)\n",
    "\n",
    "df = pd.DataFrame(data)\n",
    "df.to_csv(\"./submission.csv\", index=False)"
   ]
  },
  {
   "cell_type": "code",
   "execution_count": null,
   "id": "0329e337",
   "metadata": {
    "papermill": {
     "duration": 0.005976,
     "end_time": "2024-11-20T16:27:40.158233",
     "exception": false,
     "start_time": "2024-11-20T16:27:40.152257",
     "status": "completed"
    },
    "tags": []
   },
   "outputs": [],
   "source": []
  }
 ],
 "metadata": {
  "kaggle": {
   "accelerator": "gpu",
   "dataSources": [
    {
     "databundleVersionId": 10228459,
     "sourceId": 89041,
     "sourceType": "competition"
    }
   ],
   "dockerImageVersionId": 30776,
   "isGpuEnabled": true,
   "isInternetEnabled": true,
   "language": "python",
   "sourceType": "notebook"
  },
  "kernelspec": {
   "display_name": "Python 3",
   "language": "python",
   "name": "python3"
  },
  "language_info": {
   "codemirror_mode": {
    "name": "ipython",
    "version": 3
   },
   "file_extension": ".py",
   "mimetype": "text/x-python",
   "name": "python",
   "nbconvert_exporter": "python",
   "pygments_lexer": "ipython3",
   "version": "3.12.6"
  },
  "papermill": {
   "default_parameters": {},
   "duration": 169.889677,
   "end_time": "2024-11-20T16:27:42.390896",
   "environment_variables": {},
   "exception": null,
   "input_path": "__notebook__.ipynb",
   "output_path": "__notebook__.ipynb",
   "parameters": {},
   "start_time": "2024-11-20T16:24:52.501219",
   "version": "2.6.0"
  },
  "widgets": {
   "application/vnd.jupyter.widget-state+json": {
    "state": {
     "07a26557b7d646498997bf23a1ad44d4": {
      "model_module": "@jupyter-widgets/controls",
      "model_module_version": "1.5.0",
      "model_name": "HTMLModel",
      "state": {
       "_dom_classes": [],
       "_model_module": "@jupyter-widgets/controls",
       "_model_module_version": "1.5.0",
       "_model_name": "HTMLModel",
       "_view_count": null,
       "_view_module": "@jupyter-widgets/controls",
       "_view_module_version": "1.5.0",
       "_view_name": "HTMLView",
       "description": "",
       "description_tooltip": null,
       "layout": "IPY_MODEL_9d40de4a235d4873a721ddc9c5a62b77",
       "placeholder": "​",
       "style": "IPY_MODEL_a8b3a2aa8b4a41989f95b4b711f70c1b",
       "value": " 44.8M/44.8M [00:01&lt;00:00, 42.3MB/s]"
      }
     },
     "08e571433fc445989fe4a4a0983a74c8": {
      "model_module": "@jupyter-widgets/base",
      "model_module_version": "1.2.0",
      "model_name": "LayoutModel",
      "state": {
       "_model_module": "@jupyter-widgets/base",
       "_model_module_version": "1.2.0",
       "_model_name": "LayoutModel",
       "_view_count": null,
       "_view_module": "@jupyter-widgets/base",
       "_view_module_version": "1.2.0",
       "_view_name": "LayoutView",
       "align_content": null,
       "align_items": null,
       "align_self": null,
       "border": null,
       "bottom": null,
       "display": null,
       "flex": null,
       "flex_flow": null,
       "grid_area": null,
       "grid_auto_columns": null,
       "grid_auto_flow": null,
       "grid_auto_rows": null,
       "grid_column": null,
       "grid_gap": null,
       "grid_row": null,
       "grid_template_areas": null,
       "grid_template_columns": null,
       "grid_template_rows": null,
       "height": null,
       "justify_content": null,
       "justify_items": null,
       "left": null,
       "margin": null,
       "max_height": null,
       "max_width": null,
       "min_height": null,
       "min_width": null,
       "object_fit": null,
       "object_position": null,
       "order": null,
       "overflow": null,
       "overflow_x": null,
       "overflow_y": null,
       "padding": null,
       "right": null,
       "top": null,
       "visibility": null,
       "width": null
      }
     },
     "0ea92bfc86ca40a6b21bc91e55d018ab": {
      "model_module": "@jupyter-widgets/controls",
      "model_module_version": "1.5.0",
      "model_name": "HTMLModel",
      "state": {
       "_dom_classes": [],
       "_model_module": "@jupyter-widgets/controls",
       "_model_module_version": "1.5.0",
       "_model_name": "HTMLModel",
       "_view_count": null,
       "_view_module": "@jupyter-widgets/controls",
       "_view_module_version": "1.5.0",
       "_view_name": "HTMLView",
       "description": "",
       "description_tooltip": null,
       "layout": "IPY_MODEL_da5417558f934cda9543908995573aad",
       "placeholder": "​",
       "style": "IPY_MODEL_c5efadab652b4b39b0f05a08001828a3",
       "value": "config.json: 100%"
      }
     },
     "44e8c4b56cf842b987b0d615b8962f77": {
      "model_module": "@jupyter-widgets/base",
      "model_module_version": "1.2.0",
      "model_name": "LayoutModel",
      "state": {
       "_model_module": "@jupyter-widgets/base",
       "_model_module_version": "1.2.0",
       "_model_name": "LayoutModel",
       "_view_count": null,
       "_view_module": "@jupyter-widgets/base",
       "_view_module_version": "1.2.0",
       "_view_name": "LayoutView",
       "align_content": null,
       "align_items": null,
       "align_self": null,
       "border": null,
       "bottom": null,
       "display": null,
       "flex": null,
       "flex_flow": null,
       "grid_area": null,
       "grid_auto_columns": null,
       "grid_auto_flow": null,
       "grid_auto_rows": null,
       "grid_column": null,
       "grid_gap": null,
       "grid_row": null,
       "grid_template_areas": null,
       "grid_template_columns": null,
       "grid_template_rows": null,
       "height": null,
       "justify_content": null,
       "justify_items": null,
       "left": null,
       "margin": null,
       "max_height": null,
       "max_width": null,
       "min_height": null,
       "min_width": null,
       "object_fit": null,
       "object_position": null,
       "order": null,
       "overflow": null,
       "overflow_x": null,
       "overflow_y": null,
       "padding": null,
       "right": null,
       "top": null,
       "visibility": null,
       "width": null
      }
     },
     "57ce5b4422c24db6b0db6be6ddd119cf": {
      "model_module": "@jupyter-widgets/controls",
      "model_module_version": "1.5.0",
      "model_name": "HTMLModel",
      "state": {
       "_dom_classes": [],
       "_model_module": "@jupyter-widgets/controls",
       "_model_module_version": "1.5.0",
       "_model_name": "HTMLModel",
       "_view_count": null,
       "_view_module": "@jupyter-widgets/controls",
       "_view_module_version": "1.5.0",
       "_view_name": "HTMLView",
       "description": "",
       "description_tooltip": null,
       "layout": "IPY_MODEL_d8960217b9a949cebc9cdcb7e07369c4",
       "placeholder": "​",
       "style": "IPY_MODEL_6c438b37d86847919af2d0c4105498eb",
       "value": " 670/670 [00:00&lt;00:00, 49.9kB/s]"
      }
     },
     "6c438b37d86847919af2d0c4105498eb": {
      "model_module": "@jupyter-widgets/controls",
      "model_module_version": "1.5.0",
      "model_name": "DescriptionStyleModel",
      "state": {
       "_model_module": "@jupyter-widgets/controls",
       "_model_module_version": "1.5.0",
       "_model_name": "DescriptionStyleModel",
       "_view_count": null,
       "_view_module": "@jupyter-widgets/base",
       "_view_module_version": "1.2.0",
       "_view_name": "StyleView",
       "description_width": ""
      }
     },
     "9d40de4a235d4873a721ddc9c5a62b77": {
      "model_module": "@jupyter-widgets/base",
      "model_module_version": "1.2.0",
      "model_name": "LayoutModel",
      "state": {
       "_model_module": "@jupyter-widgets/base",
       "_model_module_version": "1.2.0",
       "_model_name": "LayoutModel",
       "_view_count": null,
       "_view_module": "@jupyter-widgets/base",
       "_view_module_version": "1.2.0",
       "_view_name": "LayoutView",
       "align_content": null,
       "align_items": null,
       "align_self": null,
       "border": null,
       "bottom": null,
       "display": null,
       "flex": null,
       "flex_flow": null,
       "grid_area": null,
       "grid_auto_columns": null,
       "grid_auto_flow": null,
       "grid_auto_rows": null,
       "grid_column": null,
       "grid_gap": null,
       "grid_row": null,
       "grid_template_areas": null,
       "grid_template_columns": null,
       "grid_template_rows": null,
       "height": null,
       "justify_content": null,
       "justify_items": null,
       "left": null,
       "margin": null,
       "max_height": null,
       "max_width": null,
       "min_height": null,
       "min_width": null,
       "object_fit": null,
       "object_position": null,
       "order": null,
       "overflow": null,
       "overflow_x": null,
       "overflow_y": null,
       "padding": null,
       "right": null,
       "top": null,
       "visibility": null,
       "width": null
      }
     },
     "a8b3a2aa8b4a41989f95b4b711f70c1b": {
      "model_module": "@jupyter-widgets/controls",
      "model_module_version": "1.5.0",
      "model_name": "DescriptionStyleModel",
      "state": {
       "_model_module": "@jupyter-widgets/controls",
       "_model_module_version": "1.5.0",
       "_model_name": "DescriptionStyleModel",
       "_view_count": null,
       "_view_module": "@jupyter-widgets/base",
       "_view_module_version": "1.2.0",
       "_view_name": "StyleView",
       "description_width": ""
      }
     },
     "aafd71b4231a499baf993ded82926a8a": {
      "model_module": "@jupyter-widgets/controls",
      "model_module_version": "1.5.0",
      "model_name": "ProgressStyleModel",
      "state": {
       "_model_module": "@jupyter-widgets/controls",
       "_model_module_version": "1.5.0",
       "_model_name": "ProgressStyleModel",
       "_view_count": null,
       "_view_module": "@jupyter-widgets/base",
       "_view_module_version": "1.2.0",
       "_view_name": "StyleView",
       "bar_color": null,
       "description_width": ""
      }
     },
     "b2fff99e4ae94c32bbd33c08454e964b": {
      "model_module": "@jupyter-widgets/base",
      "model_module_version": "1.2.0",
      "model_name": "LayoutModel",
      "state": {
       "_model_module": "@jupyter-widgets/base",
       "_model_module_version": "1.2.0",
       "_model_name": "LayoutModel",
       "_view_count": null,
       "_view_module": "@jupyter-widgets/base",
       "_view_module_version": "1.2.0",
       "_view_name": "LayoutView",
       "align_content": null,
       "align_items": null,
       "align_self": null,
       "border": null,
       "bottom": null,
       "display": null,
       "flex": null,
       "flex_flow": null,
       "grid_area": null,
       "grid_auto_columns": null,
       "grid_auto_flow": null,
       "grid_auto_rows": null,
       "grid_column": null,
       "grid_gap": null,
       "grid_row": null,
       "grid_template_areas": null,
       "grid_template_columns": null,
       "grid_template_rows": null,
       "height": null,
       "justify_content": null,
       "justify_items": null,
       "left": null,
       "margin": null,
       "max_height": null,
       "max_width": null,
       "min_height": null,
       "min_width": null,
       "object_fit": null,
       "object_position": null,
       "order": null,
       "overflow": null,
       "overflow_x": null,
       "overflow_y": null,
       "padding": null,
       "right": null,
       "top": null,
       "visibility": null,
       "width": null
      }
     },
     "b6d46a3f6b4c4ef597b5c35e67f1fdce": {
      "model_module": "@jupyter-widgets/controls",
      "model_module_version": "1.5.0",
      "model_name": "ProgressStyleModel",
      "state": {
       "_model_module": "@jupyter-widgets/controls",
       "_model_module_version": "1.5.0",
       "_model_name": "ProgressStyleModel",
       "_view_count": null,
       "_view_module": "@jupyter-widgets/base",
       "_view_module_version": "1.2.0",
       "_view_name": "StyleView",
       "bar_color": null,
       "description_width": ""
      }
     },
     "c5efadab652b4b39b0f05a08001828a3": {
      "model_module": "@jupyter-widgets/controls",
      "model_module_version": "1.5.0",
      "model_name": "DescriptionStyleModel",
      "state": {
       "_model_module": "@jupyter-widgets/controls",
       "_model_module_version": "1.5.0",
       "_model_name": "DescriptionStyleModel",
       "_view_count": null,
       "_view_module": "@jupyter-widgets/base",
       "_view_module_version": "1.2.0",
       "_view_name": "StyleView",
       "description_width": ""
      }
     },
     "c6811d4a2d094e17ad6d59a62e6d1007": {
      "model_module": "@jupyter-widgets/controls",
      "model_module_version": "1.5.0",
      "model_name": "HBoxModel",
      "state": {
       "_dom_classes": [],
       "_model_module": "@jupyter-widgets/controls",
       "_model_module_version": "1.5.0",
       "_model_name": "HBoxModel",
       "_view_count": null,
       "_view_module": "@jupyter-widgets/controls",
       "_view_module_version": "1.5.0",
       "_view_name": "HBoxView",
       "box_style": "",
       "children": [
        "IPY_MODEL_d57016509b544672b69cb2ef044c9912",
        "IPY_MODEL_d7e8dc2d0c2244878578e547353c6630",
        "IPY_MODEL_07a26557b7d646498997bf23a1ad44d4"
       ],
       "layout": "IPY_MODEL_44e8c4b56cf842b987b0d615b8962f77"
      }
     },
     "ca345cb182b14d33a16bf08440952c99": {
      "model_module": "@jupyter-widgets/base",
      "model_module_version": "1.2.0",
      "model_name": "LayoutModel",
      "state": {
       "_model_module": "@jupyter-widgets/base",
       "_model_module_version": "1.2.0",
       "_model_name": "LayoutModel",
       "_view_count": null,
       "_view_module": "@jupyter-widgets/base",
       "_view_module_version": "1.2.0",
       "_view_name": "LayoutView",
       "align_content": null,
       "align_items": null,
       "align_self": null,
       "border": null,
       "bottom": null,
       "display": null,
       "flex": null,
       "flex_flow": null,
       "grid_area": null,
       "grid_auto_columns": null,
       "grid_auto_flow": null,
       "grid_auto_rows": null,
       "grid_column": null,
       "grid_gap": null,
       "grid_row": null,
       "grid_template_areas": null,
       "grid_template_columns": null,
       "grid_template_rows": null,
       "height": null,
       "justify_content": null,
       "justify_items": null,
       "left": null,
       "margin": null,
       "max_height": null,
       "max_width": null,
       "min_height": null,
       "min_width": null,
       "object_fit": null,
       "object_position": null,
       "order": null,
       "overflow": null,
       "overflow_x": null,
       "overflow_y": null,
       "padding": null,
       "right": null,
       "top": null,
       "visibility": null,
       "width": null
      }
     },
     "ce91f6af6df34cdbad417c2ca8486c33": {
      "model_module": "@jupyter-widgets/controls",
      "model_module_version": "1.5.0",
      "model_name": "DescriptionStyleModel",
      "state": {
       "_model_module": "@jupyter-widgets/controls",
       "_model_module_version": "1.5.0",
       "_model_name": "DescriptionStyleModel",
       "_view_count": null,
       "_view_module": "@jupyter-widgets/base",
       "_view_module_version": "1.2.0",
       "_view_name": "StyleView",
       "description_width": ""
      }
     },
     "d3a0b358713a4023913d5ca92ed96c94": {
      "model_module": "@jupyter-widgets/controls",
      "model_module_version": "1.5.0",
      "model_name": "HBoxModel",
      "state": {
       "_dom_classes": [],
       "_model_module": "@jupyter-widgets/controls",
       "_model_module_version": "1.5.0",
       "_model_name": "HBoxModel",
       "_view_count": null,
       "_view_module": "@jupyter-widgets/controls",
       "_view_module_version": "1.5.0",
       "_view_name": "HBoxView",
       "box_style": "",
       "children": [
        "IPY_MODEL_0ea92bfc86ca40a6b21bc91e55d018ab",
        "IPY_MODEL_f2bc2a28e9ee41238cfce9c64ae8af50",
        "IPY_MODEL_57ce5b4422c24db6b0db6be6ddd119cf"
       ],
       "layout": "IPY_MODEL_f0772880f51d43559913213fea463b24"
      }
     },
     "d57016509b544672b69cb2ef044c9912": {
      "model_module": "@jupyter-widgets/controls",
      "model_module_version": "1.5.0",
      "model_name": "HTMLModel",
      "state": {
       "_dom_classes": [],
       "_model_module": "@jupyter-widgets/controls",
       "_model_module_version": "1.5.0",
       "_model_name": "HTMLModel",
       "_view_count": null,
       "_view_module": "@jupyter-widgets/controls",
       "_view_module_version": "1.5.0",
       "_view_name": "HTMLView",
       "description": "",
       "description_tooltip": null,
       "layout": "IPY_MODEL_b2fff99e4ae94c32bbd33c08454e964b",
       "placeholder": "​",
       "style": "IPY_MODEL_ce91f6af6df34cdbad417c2ca8486c33",
       "value": "model.safetensors: 100%"
      }
     },
     "d7e8dc2d0c2244878578e547353c6630": {
      "model_module": "@jupyter-widgets/controls",
      "model_module_version": "1.5.0",
      "model_name": "FloatProgressModel",
      "state": {
       "_dom_classes": [],
       "_model_module": "@jupyter-widgets/controls",
       "_model_module_version": "1.5.0",
       "_model_name": "FloatProgressModel",
       "_view_count": null,
       "_view_module": "@jupyter-widgets/controls",
       "_view_module_version": "1.5.0",
       "_view_name": "ProgressView",
       "bar_style": "success",
       "description": "",
       "description_tooltip": null,
       "layout": "IPY_MODEL_08e571433fc445989fe4a4a0983a74c8",
       "max": 44775880,
       "min": 0,
       "orientation": "horizontal",
       "style": "IPY_MODEL_aafd71b4231a499baf993ded82926a8a",
       "value": 44775880
      }
     },
     "d8960217b9a949cebc9cdcb7e07369c4": {
      "model_module": "@jupyter-widgets/base",
      "model_module_version": "1.2.0",
      "model_name": "LayoutModel",
      "state": {
       "_model_module": "@jupyter-widgets/base",
       "_model_module_version": "1.2.0",
       "_model_name": "LayoutModel",
       "_view_count": null,
       "_view_module": "@jupyter-widgets/base",
       "_view_module_version": "1.2.0",
       "_view_name": "LayoutView",
       "align_content": null,
       "align_items": null,
       "align_self": null,
       "border": null,
       "bottom": null,
       "display": null,
       "flex": null,
       "flex_flow": null,
       "grid_area": null,
       "grid_auto_columns": null,
       "grid_auto_flow": null,
       "grid_auto_rows": null,
       "grid_column": null,
       "grid_gap": null,
       "grid_row": null,
       "grid_template_areas": null,
       "grid_template_columns": null,
       "grid_template_rows": null,
       "height": null,
       "justify_content": null,
       "justify_items": null,
       "left": null,
       "margin": null,
       "max_height": null,
       "max_width": null,
       "min_height": null,
       "min_width": null,
       "object_fit": null,
       "object_position": null,
       "order": null,
       "overflow": null,
       "overflow_x": null,
       "overflow_y": null,
       "padding": null,
       "right": null,
       "top": null,
       "visibility": null,
       "width": null
      }
     },
     "da5417558f934cda9543908995573aad": {
      "model_module": "@jupyter-widgets/base",
      "model_module_version": "1.2.0",
      "model_name": "LayoutModel",
      "state": {
       "_model_module": "@jupyter-widgets/base",
       "_model_module_version": "1.2.0",
       "_model_name": "LayoutModel",
       "_view_count": null,
       "_view_module": "@jupyter-widgets/base",
       "_view_module_version": "1.2.0",
       "_view_name": "LayoutView",
       "align_content": null,
       "align_items": null,
       "align_self": null,
       "border": null,
       "bottom": null,
       "display": null,
       "flex": null,
       "flex_flow": null,
       "grid_area": null,
       "grid_auto_columns": null,
       "grid_auto_flow": null,
       "grid_auto_rows": null,
       "grid_column": null,
       "grid_gap": null,
       "grid_row": null,
       "grid_template_areas": null,
       "grid_template_columns": null,
       "grid_template_rows": null,
       "height": null,
       "justify_content": null,
       "justify_items": null,
       "left": null,
       "margin": null,
       "max_height": null,
       "max_width": null,
       "min_height": null,
       "min_width": null,
       "object_fit": null,
       "object_position": null,
       "order": null,
       "overflow": null,
       "overflow_x": null,
       "overflow_y": null,
       "padding": null,
       "right": null,
       "top": null,
       "visibility": null,
       "width": null
      }
     },
     "f0772880f51d43559913213fea463b24": {
      "model_module": "@jupyter-widgets/base",
      "model_module_version": "1.2.0",
      "model_name": "LayoutModel",
      "state": {
       "_model_module": "@jupyter-widgets/base",
       "_model_module_version": "1.2.0",
       "_model_name": "LayoutModel",
       "_view_count": null,
       "_view_module": "@jupyter-widgets/base",
       "_view_module_version": "1.2.0",
       "_view_name": "LayoutView",
       "align_content": null,
       "align_items": null,
       "align_self": null,
       "border": null,
       "bottom": null,
       "display": null,
       "flex": null,
       "flex_flow": null,
       "grid_area": null,
       "grid_auto_columns": null,
       "grid_auto_flow": null,
       "grid_auto_rows": null,
       "grid_column": null,
       "grid_gap": null,
       "grid_row": null,
       "grid_template_areas": null,
       "grid_template_columns": null,
       "grid_template_rows": null,
       "height": null,
       "justify_content": null,
       "justify_items": null,
       "left": null,
       "margin": null,
       "max_height": null,
       "max_width": null,
       "min_height": null,
       "min_width": null,
       "object_fit": null,
       "object_position": null,
       "order": null,
       "overflow": null,
       "overflow_x": null,
       "overflow_y": null,
       "padding": null,
       "right": null,
       "top": null,
       "visibility": null,
       "width": null
      }
     },
     "f2bc2a28e9ee41238cfce9c64ae8af50": {
      "model_module": "@jupyter-widgets/controls",
      "model_module_version": "1.5.0",
      "model_name": "FloatProgressModel",
      "state": {
       "_dom_classes": [],
       "_model_module": "@jupyter-widgets/controls",
       "_model_module_version": "1.5.0",
       "_model_name": "FloatProgressModel",
       "_view_count": null,
       "_view_module": "@jupyter-widgets/controls",
       "_view_module_version": "1.5.0",
       "_view_name": "ProgressView",
       "bar_style": "success",
       "description": "",
       "description_tooltip": null,
       "layout": "IPY_MODEL_ca345cb182b14d33a16bf08440952c99",
       "max": 670,
       "min": 0,
       "orientation": "horizontal",
       "style": "IPY_MODEL_b6d46a3f6b4c4ef597b5c35e67f1fdce",
       "value": 670
      }
     }
    },
    "version_major": 2,
    "version_minor": 0
   }
  }
 },
 "nbformat": 4,
 "nbformat_minor": 5
}
